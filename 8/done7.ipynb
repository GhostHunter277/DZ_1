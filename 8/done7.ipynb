{
 "cells": [
  {
   "cell_type": "markdown",
   "metadata": {},
   "source": [
    "Задание 1\n",
    "Скачайте с сайта https://grouplens.org/datasets/movielens/ датасет любого размера. Определите какому фильму было выставлено больше всего оценок 5.0."
   ]
  },
  {
   "cell_type": "code",
   "execution_count": 1,
   "metadata": {},
   "outputs": [
    {
     "name": "stdout",
     "output_type": "stream",
     "text": [
      "        userId  movieId  rating   timestamp\n",
      "0            1       31     2.5  1260759144\n",
      "1            1     1029     3.0  1260759179\n",
      "2            1     1061     3.0  1260759182\n",
      "3            1     1129     2.0  1260759185\n",
      "4            1     1172     4.0  1260759205\n",
      "...        ...      ...     ...         ...\n",
      "99999      671     6268     2.5  1065579370\n",
      "100000     671     6269     4.0  1065149201\n",
      "100001     671     6365     4.0  1070940363\n",
      "100002     671     6385     2.5  1070979663\n",
      "100003     671     6565     3.5  1074784724\n",
      "\n",
      "[100004 rows x 4 columns]\n",
      "318.0\n"
     ]
    }
   ],
   "source": [
    "import pandas as pd\n",
    "\n",
    "df = pd.read_csv('ratings.csv')\n",
    "print(df)\n",
    "\n",
    "df = df.where(df['rating'] == 5.0).groupby(['movieId']).agg({'rating': 'count'}).reset_index()\n",
    "print(df['movieId'].values[df['rating'].argmax()])"
   ]
  },
  {
   "cell_type": "markdown",
   "metadata": {},
   "source": [
    "Задание 2\n",
    "По данным файла power.csv посчитайте суммарное потребление стран Прибалтики (Латвия, Литва и Эстония) категорий 4, 12 и 21 за период с 2005 по 2010 года. Не учитывайте в расчетах отрицательные значения quantity."
   ]
  },
  {
   "cell_type": "code",
   "execution_count": 2,
   "metadata": {},
   "outputs": [
    {
     "name": "stdout",
     "output_type": "stream",
     "text": [
      "240580.0\n"
     ]
    }
   ],
   "source": [
    "df = pd.read_csv('power.csv')\n",
    "df.head(3)\n",
    "\n",
    "df = df.loc[\n",
    "    (df['country'].isin(['Lithuania', 'Latvia', 'Estonia']))\n",
    "    & (df['category'].isin([4, 12, 21]))\n",
    "    & (df['year'].between(2005, 2010))\n",
    "    & (df['quantity'] > 0)\n",
    "]\n",
    "print(df['quantity'].sum())"
   ]
  },
  {
   "cell_type": "markdown",
   "metadata": {},
   "source": [
    "Задание 3\n",
    "Выберите страницу любого сайта с табличными данными. Импортируйте таблицы в pandas dataframe.\n",
    "Примеры страниц (необязательно брать именно эти):\n",
    "https://fortrader.org/quotes\n",
    "https://www.finanz.ru/valyuty/v-realnom-vremeni"
   ]
  },
  {
   "cell_type": "code",
   "execution_count": 3,
   "metadata": {},
   "outputs": [
    {
     "name": "stdout",
     "output_type": "stream",
     "text": [
      "<class 'pandas.core.frame.DataFrame'>\n",
      "RangeIndex: 5978 entries, 0 to 5977\n",
      "Data columns (total 52 columns):\n",
      " #   Column                      Non-Null Count  Dtype  \n",
      "---  ------                      --------------  -----  \n",
      " 0   Date                        5978 non-null   object \n",
      " 1   Algerian Dinar              1866 non-null   float64\n",
      " 2   Australian Dollar           5715 non-null   float64\n",
      " 3   Bahrain Dinar               5909 non-null   float64\n",
      " 4   Bolivar Fuerte              2314 non-null   float64\n",
      " 5   Botswana Pula               4703 non-null   float64\n",
      " 6   Brazilian Real              5439 non-null   float64\n",
      " 7   Brunei Dollar               4732 non-null   float64\n",
      " 8   Canadian Dollar             5622 non-null   float64\n",
      " 9   Chilean Peso                4758 non-null   float64\n",
      " 10  Chinese Yuan                4662 non-null   float64\n",
      " 11  Colombian Peso              5396 non-null   float64\n",
      " 12  Czech Koruna                4128 non-null   float64\n",
      " 13  Danish Krone                5727 non-null   float64\n",
      " 14  Euro                        4908 non-null   float64\n",
      " 15  Hungarian Forint            4563 non-null   float64\n",
      " 16  Icelandic Krona             5624 non-null   float64\n",
      " 17  Indian Rupee                5549 non-null   float64\n",
      " 18  Indonesian Rupiah           4486 non-null   float64\n",
      " 19  Iranian Rial                4666 non-null   float64\n",
      " 20  Israeli New Sheqel          4039 non-null   float64\n",
      " 21  Japanese Yen                5662 non-null   float64\n",
      " 22  Kazakhstani Tenge           2927 non-null   float64\n",
      " 23  Korean Won                  5377 non-null   float64\n",
      " 24  Kuwaiti Dinar               4924 non-null   float64\n",
      " 25  Libyan Dinar                5855 non-null   float64\n",
      " 26  Malaysian Ringgit           5677 non-null   float64\n",
      " 27  Mauritian Rupee             3518 non-null   float64\n",
      " 28  Mexican Peso                3712 non-null   float64\n",
      " 29  Nepalese Rupee              5499 non-null   float64\n",
      " 30  New Zealand Dollar          5668 non-null   float64\n",
      " 31  Norwegian Krone             5687 non-null   float64\n",
      " 32  Nuevo Sol                   1681 non-null   float64\n",
      " 33  Pakistani Rupee             5490 non-null   float64\n",
      " 34  Peso Uruguayo               1691 non-null   float64\n",
      " 35  Philippine Peso             1780 non-null   float64\n",
      " 36  Polish Zloty                4213 non-null   float64\n",
      " 37  Qatar Riyal                 5931 non-null   float64\n",
      " 38  Rial Omani                  5922 non-null   float64\n",
      " 39  Russian Ruble               3543 non-null   float64\n",
      " 40  Saudi Arabian Riyal         5932 non-null   float64\n",
      " 41  Singapore Dollar            5719 non-null   float64\n",
      " 42  South African Rand          5443 non-null   float64\n",
      " 43  Sri Lanka Rupee             5469 non-null   float64\n",
      " 44  Swedish Krona               5629 non-null   float64\n",
      " 45  Swiss Franc                 5739 non-null   float64\n",
      " 46  Thai Baht                   5413 non-null   float64\n",
      " 47  Trinidad And Tobago Dollar  5321 non-null   float64\n",
      " 48  Tunisian Dinar              1720 non-null   float64\n",
      " 49  U.A.E. Dirham               5907 non-null   float64\n",
      " 50  U.K. Pound Sterling         5856 non-null   float64\n",
      " 51  U.S. Dollar                 5978 non-null   float64\n",
      "dtypes: float64(51), object(1)\n",
      "memory usage: 2.4+ MB\n"
     ]
    }
   ],
   "source": [
    "# Датасет взят с https://www.kaggle.com/thebasss/currency-exchange-rates\n",
    "\n",
    "df = pd.read_csv('rates.csv')\n",
    "df.info()"
   ]
  },
  {
   "cell_type": "markdown",
   "metadata": {},
   "source": [
    "Задание 4\n",
    "Напишите функцию, которая классифицирует фильмы из материалов занятия по следующим правилам:\n",
    "- оценка 2 и меньше - низкий рейтинг\n",
    "- оценка 4 и меньше - средний рейтинг\n",
    "- оценка 4.5 и 5 - высокий рейтинг\n",
    "\n",
    "Результат классификации запишите в столбец class"
   ]
  },
  {
   "cell_type": "code",
   "execution_count": 5,
   "metadata": {},
   "outputs": [
    {
     "data": {
      "text/html": [
       "<div>\n",
       "<style scoped>\n",
       "    .dataframe tbody tr th:only-of-type {\n",
       "        vertical-align: middle;\n",
       "    }\n",
       "\n",
       "    .dataframe tbody tr th {\n",
       "        vertical-align: top;\n",
       "    }\n",
       "\n",
       "    .dataframe thead th {\n",
       "        text-align: right;\n",
       "    }\n",
       "</style>\n",
       "<table border=\"1\" class=\"dataframe\">\n",
       "  <thead>\n",
       "    <tr style=\"text-align: right;\">\n",
       "      <th></th>\n",
       "      <th>movieId</th>\n",
       "      <th>rating</th>\n",
       "      <th>class</th>\n",
       "    </tr>\n",
       "  </thead>\n",
       "  <tbody>\n",
       "    <tr>\n",
       "      <th>0</th>\n",
       "      <td>1</td>\n",
       "      <td>3.872470</td>\n",
       "      <td>mid</td>\n",
       "    </tr>\n",
       "    <tr>\n",
       "      <th>1</th>\n",
       "      <td>2</td>\n",
       "      <td>3.401869</td>\n",
       "      <td>mid</td>\n",
       "    </tr>\n",
       "    <tr>\n",
       "      <th>2</th>\n",
       "      <td>3</td>\n",
       "      <td>3.161017</td>\n",
       "      <td>mid</td>\n",
       "    </tr>\n",
       "    <tr>\n",
       "      <th>3</th>\n",
       "      <td>4</td>\n",
       "      <td>2.384615</td>\n",
       "      <td>mid</td>\n",
       "    </tr>\n",
       "    <tr>\n",
       "      <th>4</th>\n",
       "      <td>5</td>\n",
       "      <td>3.267857</td>\n",
       "      <td>mid</td>\n",
       "    </tr>\n",
       "    <tr>\n",
       "      <th>5</th>\n",
       "      <td>6</td>\n",
       "      <td>3.884615</td>\n",
       "      <td>mid</td>\n",
       "    </tr>\n",
       "    <tr>\n",
       "      <th>6</th>\n",
       "      <td>7</td>\n",
       "      <td>3.283019</td>\n",
       "      <td>mid</td>\n",
       "    </tr>\n",
       "    <tr>\n",
       "      <th>7</th>\n",
       "      <td>8</td>\n",
       "      <td>3.800000</td>\n",
       "      <td>mid</td>\n",
       "    </tr>\n",
       "    <tr>\n",
       "      <th>8</th>\n",
       "      <td>9</td>\n",
       "      <td>3.150000</td>\n",
       "      <td>mid</td>\n",
       "    </tr>\n",
       "    <tr>\n",
       "      <th>9</th>\n",
       "      <td>10</td>\n",
       "      <td>3.450820</td>\n",
       "      <td>mid</td>\n",
       "    </tr>\n",
       "  </tbody>\n",
       "</table>\n",
       "</div>"
      ],
      "text/plain": [
       "   movieId    rating class\n",
       "0        1  3.872470   mid\n",
       "1        2  3.401869   mid\n",
       "2        3  3.161017   mid\n",
       "3        4  2.384615   mid\n",
       "4        5  3.267857   mid\n",
       "5        6  3.884615   mid\n",
       "6        7  3.283019   mid\n",
       "7        8  3.800000   mid\n",
       "8        9  3.150000   mid\n",
       "9       10  3.450820   mid"
      ]
     },
     "execution_count": 5,
     "metadata": {},
     "output_type": "execute_result"
    }
   ],
   "source": [
    "df = pd.read_csv('ratings.csv')\n",
    "df = df.groupby(['movieId']).agg({'rating': 'mean'}).reset_index()\n",
    "\n",
    "df.loc[df['rating'].between(0, 2), 'class'] = 'low'\n",
    "df.loc[df['rating'].between(2, 4), 'class'] = 'mid'\n",
    "df.loc[df['rating'].between(4.5, 5), 'class'] = 'high'\n",
    "\n",
    "df.head(10)"
   ]
  },
  {
   "cell_type": "markdown",
   "metadata": {},
   "source": [
    "Задание 5\n",
    "Используем файл keywords.csv.\n",
    "\n",
    "Необходимо написать гео-классификатор, который каждой строке сможет выставить географическую принадлежность определенному региону. Т. е. если поисковый запрос содержит название города региона, то в столбце ‘region’ пишется название этого региона. Если поисковый запрос не содержит названия города, то ставим ‘undefined’.\n",
    "\n",
    "Правила распределения по регионам Центр, Северо-Запад и Дальний Восток:\n",
    "\n",
    "geo_data = {\n",
    "'Центр': ['москва', 'тула', 'ярославль'],\n",
    "'Северо-Запад': ['петербург', 'псков', 'мурманск'],\n",
    "'Дальний Восток': ['владивосток', 'сахалин', 'хабаровск']\n",
    "}\n",
    "\n",
    "Результат классификации запишите в отдельный столбец region.\n"
   ]
  },
  {
   "cell_type": "code",
   "execution_count": 9,
   "metadata": {},
   "outputs": [
    {
     "name": "stdout",
     "output_type": "stream",
     "text": [
      "                                     keyword   shows          region\n",
      "127                             авито москва  979292           Центр\n",
      "370                 авито ру санкт петербург  425134    Северо-Запад\n",
      "564                погода в санкт петербурге  292489    Северо-Запад\n",
      "849                          авито ярославль  209581           Центр\n",
      "1063                     фарпост владивосток  176951  Дальний Восток\n",
      "...                                      ...     ...             ...\n",
      "99590  авито ярославль автомобили с пробегом    3673           Центр\n",
      "99634   северпост новости мурманской области    3606    Северо-Запад\n",
      "99808      полармед мурманск запись на прием    3719    Северо-Запад\n",
      "99890                    яндекс метро москва    4548           Центр\n",
      "99922                      авто ру ярославль    3712           Центр\n",
      "\n",
      "[747 rows x 3 columns]\n"
     ]
    }
   ],
   "source": [
    "geo_data = {\n",
    "    'Центр': ['москва', 'тула', 'ярославль'],\n",
    "    'Северо-Запад': ['петербург', 'псков', 'мурманск'],\n",
    "    'Дальний Восток': ['владивосток', 'сахалин', 'хабаровск']\n",
    "}\n",
    "\n",
    "df = pd.read_csv('keywords.csv')\n",
    "df['region'] = None\n",
    "for key, value in geo_data.items():\n",
    "    df.loc[df['keyword'].str.contains('|'.join(value)), 'region'] = key\n",
    "\n",
    "print(df[df['region'].notnull()])\n"
   ]
  },
  {
   "cell_type": "markdown",
   "metadata": {},
   "source": [
    "Задание 6\n",
    "Есть мнение, что “раньше снимали настоящее кино, не то что сейчас”. Ваша задача проверить это утверждение, используя файлы с рейтингами фильмов из прошлого домашнего занятия (файл ratings.csv из базы https://grouplens.org/datasets/movielens). Т. е. проверить верно ли, что с ростом года выпуска фильма его средний рейтинг становится ниже.\n",
    "\n",
    "При этом мы не будем затрагивать субьективные факторы выставления этих рейтингов, а пройдемся по следующему алгоритму:\n",
    "\n",
    "В переменную years запишите список из всех годов с 1950 по 2010.\n",
    "\n",
    "Напишите функцию production_year, которая каждой строке из названия фильма выставляет год выпуска. Не все названия фильмов содержат год выпуска в одинаковом формате, поэтому используйте следующий алгоритм:\n",
    "\n",
    "для каждой строки пройдите по всем годам списка years\n",
    "если номер года присутствует в названии фильма, то функция возвращает этот год как год выпуска\n",
    "если ни один из номеров года списка years не встретился в названии фильма, то возвращается 1900 год\n",
    "Запишите год выпуска фильма по алгоритму пункта 2 в новый столбец ‘year’\n",
    "\n",
    "Посчитайте средний рейтинг всех фильмов для каждого значения столбца ‘year’ и отсортируйте результат по убыванию рейтинга"
   ]
  },
  {
   "cell_type": "code",
   "execution_count": null,
   "metadata": {},
   "outputs": [],
   "source": []
  },
  {
   "cell_type": "markdown",
   "metadata": {},
   "source": [
    "Вывод:"
   ]
  }
 ],
 "metadata": {
  "kernelspec": {
   "display_name": "Python 3",
   "language": "python",
   "name": "python3"
  },
  "language_info": {
   "codemirror_mode": {
    "name": "ipython",
    "version": 3
   },
   "file_extension": ".py",
   "mimetype": "text/x-python",
   "name": "python",
   "nbconvert_exporter": "python",
   "pygments_lexer": "ipython3",
   "version": "3.8.5"
  }
 },
 "nbformat": 4,
 "nbformat_minor": 4
}