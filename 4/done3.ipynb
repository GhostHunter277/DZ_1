{
 "cells": [
  {
   "cell_type": "markdown",
   "metadata": {},
   "source": [
    "Вы работаете секретарем и вам постоянно приходят различные документы. Вы должны быть очень внимательны, чтобы не потерять ни один документ. Каталог документов хранится в следующем виде:"
   ]
  },
  {
   "cell_type": "code",
   "execution_count": 1,
   "metadata": {},
   "outputs": [],
   "source": [
    "documents = [\n",
    "    {'type': 'passport', 'number': '2207 876234', 'name': 'Василий Гупкин'},\n",
    "    {'type': 'invoice', 'number': '11-2', 'name': 'Геннадий Покемонов'},\n",
    "    {'type': 'insurance', 'number': '10006', 'name': 'Аристарх Павлов'}\n",
    "]"
   ]
  },
  {
   "cell_type": "code",
   "execution_count": 2,
   "metadata": {},
   "outputs": [],
   "source": [
    "def print_documents(documents):\n",
    "    for doc in documents:\n",
    "        print(doc)"
   ]
  },
  {
   "cell_type": "markdown",
   "metadata": {},
   "source": [
    "Перечень полок, на которых находятся документы хранится в следующем виде:"
   ]
  },
  {
   "cell_type": "code",
   "execution_count": 3,
   "metadata": {},
   "outputs": [],
   "source": [
    "directories = {\n",
    "    '1': ['2207 876234', '11-2'],\n",
    "    '2': ['10006'],\n",
    "    '3': []\n",
    "}"
   ]
  },
  {
   "cell_type": "code",
   "execution_count": 4,
   "metadata": {},
   "outputs": [],
   "source": [
    "def print_directories(directories):\n",
    "    for key,value in directories.items():\n",
    "        print(key,value)"
   ]
  },
  {
   "cell_type": "markdown",
   "metadata": {},
   "source": [
    "Необходимо реализовать пользовательские команды (внимание! это не название функций, которые должны быть выразительными, а команды, которые вводит пользователь, чтобы получить необходимый результат):\n",
    "\n",
    "* p – people – команда, которая спросит номер документа и выведет имя человека, которому он принадлежит;\n",
    "* s – shelf – команда, которая спросит номер документа и выведет номер полки, на которой он находится\n",
    "Правильно обработайте ситуации, когда пользователь будет вводить несуществующий документ.\n",
    "* l – list – команда, которая выведет список всех документов в формате\n",
    "**passport \"2207 876234\" \"Василий Гупкин\"**\n",
    "* as – add shelf – команда, которая спросит номер новой полки и добавит ее в перечень. Предусмотрите случай, когда пользователь добавляет полку, которая уже существует.\n",
    "* d – delete – команда, которая спросит номер документа и удалит его из каталога и из перечня полок. Предусмотрите сценарий, когда пользователь вводит несуществующий документ;\n",
    "* m – move – команда, которая спросит номер документа и целевую полку и переместит его с текущей полки на целевую. Корректно обработайте кейсы, когда пользователь пытается переместить несуществующий документ или переместить документ на несуществующую полку;\n",
    "*  add – команда, которая добавит новый документ в каталог и в перечень полок, спросив его номер, тип, имя владельца и номер полки, на котором он будет храниться. Корректно обработайте ситуацию, когда пользователь будет пытаться добавить документ на несуществующую полку."
   ]
  },
  {
   "cell_type": "code",
   "execution_count": 11,
   "metadata": {},
   "outputs": [
    {
     "name": "stdout",
     "output_type": "stream",
     "text": [
      "> as\n",
      "Введите номер полки: 5\n",
      "{'type': 'passport', 'number': '2207 876234', 'name': 'Василий Гупкин'}\n",
      "{'type': 'insurance', 'number': '10006', 'name': 'Аристарх Павлов'}\n",
      "1 ['2207 876234']\n",
      "2 ['10006']\n",
      "3 []\n",
      "5 []\n"
     ]
    }
   ],
   "source": [
    "def show_human_by_doc_number(num):\n",
    "    for document in documents:\n",
    "        if document['number'] == num:\n",
    "            print(document['name'])\n",
    "\n",
    "\n",
    "def get_shelf_number_from_doc_number(num):\n",
    "    for k, v in directories.items():\n",
    "        if num in v:\n",
    "            print(k)\n",
    "            return\n",
    "\n",
    "    print(\"Нет такого документа\")\n",
    "\n",
    "\n",
    "def print_docs():\n",
    "    for document in documents:\n",
    "        print(*document.values())\n",
    "\n",
    "\n",
    "def add_shelf(num):\n",
    "    if num in directories:\n",
    "        print(\"Полка уже существует\")\n",
    "    else:\n",
    "        directories[num] = []\n",
    "\n",
    "\n",
    "def delete_doc(num):\n",
    "    global documents, directories\n",
    "\n",
    "    for i in range(len(documents)):\n",
    "        if documents[i]['number'] == num:\n",
    "            del documents[i]\n",
    "            break\n",
    "\n",
    "    new_directories = dict()\n",
    "    for k, v in directories.items():\n",
    "        new_directories[k] = v\n",
    "        if num in v:\n",
    "            del new_directories[k][new_directories[k].index(num)]\n",
    "    directories = new_directories\n",
    "\n",
    "\n",
    "def move(num, new_shelf):\n",
    "\n",
    "    global directories\n",
    "\n",
    "    if new_shelf not in directories:\n",
    "        print(\"Такой полки нет\")\n",
    "        return\n",
    "\n",
    "    found = False\n",
    "    for k, v in directories.items():\n",
    "        if num in v:\n",
    "            found = True\n",
    "            break\n",
    "\n",
    "    if not found:\n",
    "        print(\"Такого документа нет\")\n",
    "        return\n",
    "\n",
    "    for k, v in directories.items():\n",
    "        if k == new_shelf:\n",
    "            directories[new_shelf].append(num)\n",
    "        if num in v:\n",
    "            del directories[k][directories[k].index(num)]\n",
    "\n",
    "\n",
    "def add_doc():\n",
    "    number = input(\"Номер документа: \")\n",
    "    doc_type = input(\"Тип документа: \")\n",
    "    owner_name = input(\"Имя владельца: \")\n",
    "    shelf_number = input(\"Номер полки: \")\n",
    "    if shelf_number not in directories:\n",
    "        print(\"Такой полки нет\")\n",
    "    else:\n",
    "        for k, v in directories.items():\n",
    "            if k == shelf_number:\n",
    "                directories[k].append(number)\n",
    "        documents.append({'type': doc_type, 'number': number, 'name': owner_name})\n",
    "\n",
    "\n",
    "command = input(\"> \").lower()\n",
    "if command == 'p':\n",
    "    show_human_by_doc_number(input(\"Введите номер документа: \"))\n",
    "elif command == 's':\n",
    "    get_shelf_number_from_doc_number(input(\"Введите номер документа: \"))\n",
    "elif command == 'l':\n",
    "    print_docs()\n",
    "elif command == 'as':\n",
    "    add_shelf(input(\"Введите номер полки: \"))\n",
    "elif command == 'd':\n",
    "    delete_doc(input(\"Введите номер: \"))\n",
    "elif command == 'm':\n",
    "    move(input(\"Введите номер документа: \"), input(\"Введите номер полки: \"))\n",
    "elif command == 'add':\n",
    "    add_doc()\n",
    "else:\n",
    "    print(\"Нет такой команды\")\n",
    "\n",
    "print_documents(documents)\n",
    "print_directories(directories)"
   ]
  },
  {
   "cell_type": "code",
   "execution_count": null,
   "metadata": {},
   "outputs": [],
   "source": []
  }
 ],
 "metadata": {
  "kernelspec": {
   "display_name": "Python 3",
   "language": "python",
   "name": "python3"
  },
  "language_info": {
   "codemirror_mode": {
    "name": "ipython",
    "version": 3
   },
   "file_extension": ".py",
   "mimetype": "text/x-python",
   "name": "python",
   "nbconvert_exporter": "python",
   "pygments_lexer": "ipython3",
   "version": "3.8.2"
  }
 },
 "nbformat": 4,
 "nbformat_minor": 4
}
