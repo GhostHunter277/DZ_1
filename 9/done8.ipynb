{
 "cells": [
  {
   "cell_type": "markdown",
   "metadata": {},
   "source": [
    "Задание 1\n",
    "Для датафрейма log из материалов занятия создайте столбец source_type по следующим правилам:\n",
    "\n",
    "если источник traffic_source равен yandex или google, то в source_type ставится organic\n",
    "для источников paid и email из России - ставим ad\n",
    "для источников paid и email не из России - ставим other\n",
    "все остальные варианты берем из traffic_source без изменений"
   ]
  },
  {
   "cell_type": "code",
   "execution_count": 23,
   "metadata": {},
   "outputs": [
    {
     "name": "stdout",
     "output_type": "stream",
     "text": [
      "        timestamp    visit_id                                 url   region  \\\n",
      "0      1549980692  e3b0c44298  https://host.ru/3c19b4ef7371864fa3   Russia   \n",
      "1      1549980704  6e340b9cff  https://host.ru/c8d9213a31839f9a3a   Russia   \n",
      "2      1549980715  96a296d224  https://host.ru/b8b58337d272ee7b15   Russia   \n",
      "3      1549980725  709e80c884  https://host.ru/b8b58337d272ee7b15   Russia   \n",
      "4      1549980736  df3f619804  https://host.ru/b8b58337d272ee7b15   Russia   \n",
      "...           ...         ...                                 ...      ...   \n",
      "18933  1550094288  57e5ba8560  https://host.ru/c2382eb3d6afc8d0f3  Belarus   \n",
      "18934  1550094296  6f9389ec1b  https://host.ru/f1eb4601740d627ab0   Russia   \n",
      "18935  1550094308  e8cf2eb8e6  https://host.ru/a5dda93e70318570c0  Belarus   \n",
      "18936  1550094314  79530b9a67  https://host.ru/6fda01ec57f23abc9e   Russia   \n",
      "18937  1550094323  b3b634f824  https://host.ru/39fa884393666d45fc   Russia   \n",
      "\n",
      "          user_id traffic_source source_type  \n",
      "0      b1613cc09f         yandex     organic  \n",
      "1      4c3ec14bee         direct        None  \n",
      "2      a8c40697fb         yandex     organic  \n",
      "3      521ac1d6a0         yandex     organic  \n",
      "4      d7323c571c         yandex     organic  \n",
      "...           ...            ...         ...  \n",
      "18933  98b19810d0           paid       other  \n",
      "18934  32ebb20c13           paid          ad  \n",
      "18935  b85baa8c73         yandex     organic  \n",
      "18936  e154b06121           paid          ad  \n",
      "18937  7d27a58fb8          email          ad  \n",
      "\n",
      "[18938 rows x 7 columns]\n"
     ]
    }
   ],
   "source": [
    "import pandas as pd\n",
    "\n",
    "df = pd.read_csv('visit_log.csv', delimiter=';')\n",
    "\n",
    "df['source_type'] = None\n",
    "df.loc[df['traffic_source'].isin(['yandex', 'google']), 'source_type'] = 'organic'\n",
    "df.loc[(df['traffic_source'].isin(['paid', 'email'])) & (df['region'] == 'Russia'), 'source_type'] = 'ad'\n",
    "df.loc[(df['traffic_source'].isin(['paid', 'email'])) & (df['region'] != 'Russia'), 'source_type'] = 'other'\n",
    "\n",
    "print(df)"
   ]
  },
  {
   "cell_type": "markdown",
   "metadata": {},
   "source": [
    "Задание 2\n",
    "В файле URLs.txt содержатся url страниц новостного сайта. Вам необходимо отфильтровать его по адресам страниц с текстами новостей. Известно, что шаблон страницы новостей имеет внутри url следующую конструкцию: /, затем 8 цифр, затем дефис. Выполните следующие действия:\n",
    "\n",
    "Прочитайте содержимое файла с датафрейм\n",
    "Отфильтруйте страницы с текстом новостей, используя метод str.contains и регулярное выражение в соответствии с заданным шаблоном"
   ]
  },
  {
   "cell_type": "code",
   "execution_count": 24,
   "metadata": {},
   "outputs": [
    {
     "name": "stdout",
     "output_type": "stream",
     "text": [
      "                                                 urls   news\n",
      "0                                                 url  False\n",
      "1                                             /world/  False\n",
      "2                                            /latest/  False\n",
      "3                                       /?updated=top  False\n",
      "4   /politics/36188461-s-marta-zhizn-rossiyan-susc...   True\n",
      "..                                                ...    ...\n",
      "89  /cis/35984145-kreml-prokommentiroval-soobschen...   True\n",
      "90  /video/36071019-olimpiyskie-obekty-rio-prevrat...   True\n",
      "91  /science/36151301-nazvano-posledstvie-zloupotr...   True\n",
      "92  /incidents/36027330-vospitatelnitsu-zatravili-...   True\n",
      "93  /world/36103095-dominikanskih-zhurnalistov-ubi...   True\n",
      "\n",
      "[94 rows x 2 columns]\n"
     ]
    }
   ],
   "source": [
    "df = pd.read_csv('URLs.txt', delimiter=' ', header=None)\n",
    "df.columns = ['urls']\n",
    "\n",
    "df['news'] = False\n",
    "df.loc[df['urls'].str.contains(r'/\\d{8}-'), 'news'] = True\n",
    "\n",
    "print(df)"
   ]
  },
  {
   "cell_type": "markdown",
   "metadata": {},
   "source": [
    "Задание 3\n",
    "В датафрейме data создайте столбец lemmas, в котором вычислите леммы поисковых запросов из столбца keyword. Леммы должны иметь строковый тип."
   ]
  },
  {
   "cell_type": "code",
   "execution_count": 25,
   "metadata": {},
   "outputs": [
    {
     "name": "stdout",
     "output_type": "stream",
     "text": [
      "0      [курс, гривны, к, рублю]\n",
      "1           [доллары, в, рубли]\n",
      "2    [100, долларов, в, рублях]\n",
      "3                 [курс, рубля]\n",
      "Name: keyword, dtype: object\n"
     ]
    },
    {
     "name": "stderr",
     "output_type": "stream",
     "text": [
      "[nltk_data] Downloading package wordnet to\n",
      "[nltk_data]     C:\\Users\\User\\AppData\\Roaming\\nltk_data...\n",
      "[nltk_data]   Package wordnet is already up-to-date!\n"
     ]
    }
   ],
   "source": [
    "import nltk\n",
    "\n",
    "w_tokenizer = nltk.tokenize.WhitespaceTokenizer()\n",
    "lemmatizer = nltk.stem.WordNetLemmatizer()\n",
    "\n",
    "nltk.download('wordnet')\n",
    "\n",
    "\n",
    "def lemmatize_text(text):\n",
    "    return [lemmatizer.lemmatize(w) for w in w_tokenizer.tokenize(text)]\n",
    "\n",
    "\n",
    "data = pd.DataFrame({\n",
    "    'keyword': ['курс гривны к рублю', 'доллары в рубли', '100 долларов в рублях', 'курс рубля'],\n",
    "    'shows': [125076, 114173, 97534, 53546],\n",
    "})\n",
    "\n",
    "result = data.keyword.apply(lemmatize_text)\n",
    "print(result)"
   ]
  },
  {
   "cell_type": "markdown",
   "metadata": {},
   "source": [
    "или"
   ]
  },
  {
   "cell_type": "code",
   "execution_count": 26,
   "metadata": {},
   "outputs": [
    {
     "data": {
      "text/plain": [
       "Ellipsis"
      ]
     },
     "execution_count": 26,
     "metadata": {},
     "output_type": "execute_result"
    }
   ],
   "source": [
    "import pandas as pd\n",
    "\n",
    "data = pd.DataFrame({\n",
    "    'keyword': ['курс гривны к рублю', 'доллары в рубли', '100 долларов в рублях', 'курс рубля'],\n",
    "    'shows': [125076, 114173, 97534, 53546],\n",
    "})\n",
    "\n",
    "result = data.keyword.apply(lambda x: x.split(' '))\n",
    "\n",
    "...\n"
   ]
  },
  {
   "cell_type": "code",
   "execution_count": null,
   "metadata": {},
   "outputs": [],
   "source": []
  }
 ],
 "metadata": {
  "kernelspec": {
   "display_name": "Python 3",
   "language": "python",
   "name": "python3"
  },
  "language_info": {
   "codemirror_mode": {
    "name": "ipython",
    "version": 3
   },
   "file_extension": ".py",
   "mimetype": "text/x-python",
   "name": "python",
   "nbconvert_exporter": "python",
   "pygments_lexer": "ipython3",
   "version": "3.8.3"
  }
 },
 "nbformat": 4,
 "nbformat_minor": 4
}
