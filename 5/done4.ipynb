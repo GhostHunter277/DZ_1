{
 "cells": [
  {
   "cell_type": "code",
   "execution_count": 3,
   "metadata": {},
   "outputs": [],
   "source": [
    "# Создаем пустой словарь для хранения результата\n",
    "purchases = dict()\n",
    "# Читаем все линии кроме последней и первой\n",
    "lines = open('purchase_log.txt').read().split('\\n')[1:-1]\n",
    "# Проходимся по всем линиям\n",
    "for line in lines:\n",
    "#     через eval получаем словарь из строчки\n",
    "    dict_node = eval(line)\n",
    "#     формируем новый словарь из этих значений\n",
    "    purchases.update({dict_node[\"user_id\"]: dict_node[\"category\"]})"
   ]
  },
  {
   "cell_type": "code",
   "execution_count": 4,
   "metadata": {},
   "outputs": [
    {
     "ename": "KeyboardInterrupt",
     "evalue": "",
     "output_type": "error",
     "traceback": [
      "\u001b[0;31m---------------------------------------------------------------------------\u001b[0m",
      "\u001b[0;31mKeyboardInterrupt\u001b[0m                         Traceback (most recent call last)",
      "\u001b[0;32m<ipython-input-4-8f0f6c87ca85>\u001b[0m in \u001b[0;36m<module>\u001b[0;34m\u001b[0m\n\u001b[1;32m      8\u001b[0m \u001b[0;34m\u001b[0m\u001b[0m\n\u001b[1;32m      9\u001b[0m     \u001b[0;32mfor\u001b[0m \u001b[0mline\u001b[0m \u001b[0;32min\u001b[0m \u001b[0mreader\u001b[0m\u001b[0;34m:\u001b[0m\u001b[0;34m\u001b[0m\u001b[0;34m\u001b[0m\u001b[0m\n\u001b[0;32m---> 10\u001b[0;31m         \u001b[0;32mfor\u001b[0m \u001b[0mkey\u001b[0m\u001b[0;34m,\u001b[0m \u001b[0mvalue\u001b[0m \u001b[0;32min\u001b[0m \u001b[0mpurchases\u001b[0m\u001b[0;34m.\u001b[0m\u001b[0mitems\u001b[0m\u001b[0;34m(\u001b[0m\u001b[0;34m)\u001b[0m\u001b[0;34m:\u001b[0m\u001b[0;34m\u001b[0m\u001b[0;34m\u001b[0m\u001b[0m\n\u001b[0m\u001b[1;32m     11\u001b[0m             \u001b[0;32mif\u001b[0m \u001b[0mkey\u001b[0m \u001b[0;34m==\u001b[0m \u001b[0mline\u001b[0m\u001b[0;34m[\u001b[0m\u001b[0;36m0\u001b[0m\u001b[0;34m]\u001b[0m\u001b[0;34m:\u001b[0m\u001b[0;34m\u001b[0m\u001b[0;34m\u001b[0m\u001b[0m\n\u001b[1;32m     12\u001b[0m                 \u001b[0mnew\u001b[0m\u001b[0;34m.\u001b[0m\u001b[0mwrite\u001b[0m\u001b[0;34m(\u001b[0m\u001b[0;34mf'{line[0]},{line[1]},{value}\\n'\u001b[0m\u001b[0;34m)\u001b[0m\u001b[0;34m\u001b[0m\u001b[0;34m\u001b[0m\u001b[0m\n",
      "\u001b[0;31mKeyboardInterrupt\u001b[0m: "
     ]
    }
   ],
   "source": [
    "# Загружаем модуль для работы с csv файлами\n",
    "import csv\n",
    "\n",
    "# Открываем 2 файла\n",
    "with open(\"visit_log_urez.csv\", \"r\") as old, open(\"funnel.csv\", \"w\") as new:\n",
    "#     делаем итератор для построчного чтения\n",
    "    reader = csv.reader(old, delimiter=\",\")\n",
    "#     читаем старый заголовок\n",
    "    header = next(reader)\n",
    "\n",
    "#     делаем новый заголовок и пишем в новый файл\n",
    "    new.write(f'{header[0]},{header[1]},category\\n')\n",
    "\n",
    "#     проходим по всем строкам в старом файле\n",
    "    for line in reader:\n",
    "#         проходим по всему словарю\n",
    "        for key, value in purchases.items():\n",
    "#         Если ID совпало, то\n",
    "            if key == line[0]:\n",
    "#         Записываем информацию с категорией\n",
    "                new.write(f'{line[0]},{line[1]},{value}\\n')\n",
    "#     Так как мы нашли нужную запись, то выходим из цикла\n",
    "                break"
   ]
  },
  {
   "cell_type": "code",
   "execution_count": null,
   "metadata": {},
   "outputs": [],
   "source": []
  }
 ],
 "metadata": {
  "kernelspec": {
   "display_name": "Python 3",
   "language": "python",
   "name": "python3"
  },
  "language_info": {
   "codemirror_mode": {
    "name": "ipython",
    "version": 3
   },
   "file_extension": ".py",
   "mimetype": "text/x-python",
   "name": "python",
   "nbconvert_exporter": "python",
   "pygments_lexer": "ipython3",
   "version": "3.8.2"
  }
 },
 "nbformat": 4,
 "nbformat_minor": 4
}
