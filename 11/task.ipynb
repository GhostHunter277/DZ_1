{
 "cells": [
  {
   "cell_type": "code",
   "execution_count": 1,
   "metadata": {},
   "outputs": [
    {
     "name": "stdout",
     "output_type": "stream",
     "text": [
      "Defaulting to user installation because normal site-packages is not writeable\n",
      "Requirement already satisfied: requests in /usr/lib/python3/dist-packages (2.22.0)\n"
     ]
    }
   ],
   "source": [
    "!pip install requests"
   ]
  },
  {
   "cell_type": "code",
   "execution_count": 12,
   "metadata": {},
   "outputs": [],
   "source": [
    "import requests\n",
    "import re\n",
    "import pandas as pd\n",
    "\n",
    "keywords = ['python', 'парсинг', \"снова\"]\n",
    "df = pd.DataFrame(columns=['title', 'time', 'link'])"
   ]
  },
  {
   "cell_type": "code",
   "execution_count": 13,
   "metadata": {},
   "outputs": [
    {
     "data": {
      "text/html": [
       "<div>\n",
       "<style scoped>\n",
       "    .dataframe tbody tr th:only-of-type {\n",
       "        vertical-align: middle;\n",
       "    }\n",
       "\n",
       "    .dataframe tbody tr th {\n",
       "        vertical-align: top;\n",
       "    }\n",
       "\n",
       "    .dataframe thead th {\n",
       "        text-align: right;\n",
       "    }\n",
       "</style>\n",
       "<table border=\"1\" class=\"dataframe\">\n",
       "  <thead>\n",
       "    <tr style=\"text-align: right;\">\n",
       "      <th></th>\n",
       "      <th>title</th>\n",
       "      <th>time</th>\n",
       "      <th>link</th>\n",
       "    </tr>\n",
       "  </thead>\n",
       "  <tbody>\n",
       "    <tr>\n",
       "      <th>0</th>\n",
       "      <td>ВКонтакте снова выкладывает KPHP</td>\n",
       "      <td>сегодня в 12:12</td>\n",
       "      <td>\"https://habr.com/ru/company/vk/blog/527420/\"</td>\n",
       "    </tr>\n",
       "  </tbody>\n",
       "</table>\n",
       "</div>"
      ],
      "text/plain": [
       "                              title             time  \\\n",
       "0  ВКонтакте снова выкладывает KPHP  сегодня в 12:12   \n",
       "\n",
       "                                            link  \n",
       "0  \"https://habr.com/ru/company/vk/blog/527420/\"  "
      ]
     },
     "execution_count": 13,
     "metadata": {},
     "output_type": "execute_result"
    }
   ],
   "source": [
    "url = 'https://habr.com/ru/all/'\n",
    "resp = requests.get(url)\n",
    "content = resp.content.decode('utf-8')\n",
    "titles = re.findall(r'<a href=.*? class=\"post__title_link\">(.*)</a>', content)\n",
    "links = re.findall(r'<a href=(.*?) class=\"post__title_link\">.*</a>', content)\n",
    "times = re.findall(r'<span class=\"post__time\">(.*)</span>', content)\n",
    "\n",
    "for i in range(len(titles)):\n",
    "    for keyword in keywords:\n",
    "        if keyword in titles[i]:\n",
    "            df = df.append({'title': titles[i], 'link': links[i], 'time': times[i]}, ignore_index=True)\n",
    "            \n",
    "df.head()"
   ]
  },
  {
   "cell_type": "code",
   "execution_count": null,
   "metadata": {},
   "outputs": [],
   "source": []
  }
 ],
 "metadata": {
  "kernelspec": {
   "display_name": "Python 3",
   "language": "python",
   "name": "python3"
  },
  "language_info": {
   "codemirror_mode": {
    "name": "ipython",
    "version": 3
   },
   "file_extension": ".py",
   "mimetype": "text/x-python",
   "name": "python",
   "nbconvert_exporter": "python",
   "pygments_lexer": "ipython3",
   "version": "3.8.5"
  }
 },
 "nbformat": 4,
 "nbformat_minor": 4
}
